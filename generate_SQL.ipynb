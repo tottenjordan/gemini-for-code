{
 "cells": [
  {
   "cell_type": "markdown",
   "id": "dbfc3107-0fdf-4cd3-9d0d-b55f73aaa9eb",
   "metadata": {},
   "source": [
    "# Text-to-SQL with Gemini 2.0\n",
    "\n",
    "see similar code example: [code execution with Gemini 2.0](https://github.com/GoogleCloudPlatform/generative-ai/blob/main/gemini/code-execution/intro_code_execution.ipynb)\n"
   ]
  },
  {
   "cell_type": "code",
   "execution_count": 21,
   "id": "74e810b7-9185-4d72-8481-b6f3063ddc8d",
   "metadata": {
    "tags": []
   },
   "outputs": [],
   "source": [
    "# %pip install --upgrade --quiet google-genai"
   ]
  },
  {
   "cell_type": "markdown",
   "id": "caad032e-62c2-4115-95dc-66177db98b9e",
   "metadata": {},
   "source": [
    "### Imports\n",
    "\n",
    "see `google-genai` SDK [here](https://github.com/googleapis/python-genai/tree/main/google/genai)"
   ]
  },
  {
   "cell_type": "code",
   "execution_count": 6,
   "id": "f94e5887-b9c7-47ce-be0b-3f6671b9bfbf",
   "metadata": {
    "tags": []
   },
   "outputs": [],
   "source": [
    "import os\n",
    "import sys\n",
    "\n",
    "from IPython.display import Markdown, display\n",
    "\n",
    "from google import genai\n",
    "from google.genai.types import GenerateContentConfig"
   ]
  },
  {
   "cell_type": "markdown",
   "id": "8e707345-f3a8-4d0e-8428-e4c63c67b220",
   "metadata": {},
   "source": [
    "### environment config"
   ]
  },
  {
   "cell_type": "code",
   "execution_count": 2,
   "id": "9258e902-d3e4-49ce-a9a5-a9e5216d01ec",
   "metadata": {
    "tags": []
   },
   "outputs": [
    {
     "name": "stdout",
     "output_type": "stream",
     "text": [
      "PROJECT_ID: hybrid-vertex\n",
      "LOCATION: us-central1\n"
     ]
    }
   ],
   "source": [
    "PROJECT_ID = \"hybrid-vertex\" \n",
    "LOCATION = os.environ.get(\"GOOGLE_CLOUD_REGION\", \"us-central1\")\n",
    "\n",
    "if not PROJECT_ID or PROJECT_ID == \"[your-project-id]\":\n",
    "    raise ValueError(\"Please set your PROJECT_ID\")\n",
    "    \n",
    "print(f\"PROJECT_ID: {PROJECT_ID}\")\n",
    "print(f\"LOCATION: {LOCATION}\")"
   ]
  },
  {
   "cell_type": "code",
   "execution_count": 3,
   "id": "1fb23c5f-5452-4f1a-b89f-4fee7f0841b0",
   "metadata": {
    "tags": []
   },
   "outputs": [],
   "source": [
    "client = genai.Client(vertexai=True, project=PROJECT_ID, location=LOCATION)"
   ]
  },
  {
   "cell_type": "code",
   "execution_count": 4,
   "id": "1863d3f0-5d93-4f22-928a-5341adda0b67",
   "metadata": {
    "tags": []
   },
   "outputs": [],
   "source": [
    "MODEL_ID = \"gemini-2.0-flash-001\""
   ]
  },
  {
   "cell_type": "markdown",
   "id": "70f95385-1314-443e-b5f3-5632098e1073",
   "metadata": {},
   "source": [
    "# Generate SQL for BigQuery\n",
    "\n",
    "> generate SQL queries to test against a BigQuery Public dataset: \n",
    "\n",
    "In the SQL prompt template, you can define multiple criteria like:\n",
    "\n",
    "* problem statement\n",
    "* table metadata\n",
    "* styling of the code\n",
    "* and performance expectations\n",
    "\n",
    "Passing the table `metadata` is crucial since it allows the model to generate consistent code that follows the structure of the metadata. \n",
    "\n",
    "Ensure that your problem statement is very clear, concise, and contains all relevant context."
   ]
  },
  {
   "cell_type": "code",
   "execution_count": 10,
   "id": "d2f05785-cbae-4e37-af2c-f1c8fbae3ce3",
   "metadata": {
    "tags": []
   },
   "outputs": [
    {
     "name": "stdout",
     "output_type": "stream",
     "text": [
      "Write a BigQuery query to generate the following query: \n",
      "\n",
      "            - return all columns for 1000 records where tripduration is not null. \n",
      "\n",
      "          .\n",
      "          use this as the table metadata: \n",
      "          A table of bike trips, with the following columns:\n",
      "\n",
      "          tripduration: Trip Duration (in seconds).\n",
      "          starttime: Start Time, in NYC local time.\n",
      "          stoptime: Stop Time, in NYC local time \n",
      "          start_station_id: Start Station ID\n",
      "          start_station_name: Start Station Name\n",
      "          start_station_latitude: Start Station Latitude\n",
      "          start_station_longitude: Start Station Longitude\n",
      "          end_station_id: End Station ID\n",
      "          end_station_name: End Station Name\n",
      "          end_station_latitude: End Station Latitude\n",
      "          end_station_longitude: End Station Longitude\n",
      "          bikeid: the Bike's unique ID number\n",
      "          usertype: User Type (Customer = 24-hour pass or 7-day pass user, Subscriber = Annual Member)\n",
      "          birth_year: user's year of birth\n",
      "          gender: user's gender (unknown, male, female)\n",
      "          customer_plan: The name of the plan that determines the rate charged for the trip\n",
      "\n",
      "            .\n",
      "          \n"
     ]
    }
   ],
   "source": [
    "metadata = \"\"\"\n",
    "          A table of bike trips, with the following columns:\n",
    "\n",
    "          tripduration: Trip Duration (in seconds).\n",
    "          starttime: Start Time, in NYC local time.\n",
    "          stoptime: Stop Time, in NYC local time \n",
    "          start_station_id: Start Station ID\n",
    "          start_station_name: Start Station Name\n",
    "          start_station_latitude: Start Station Latitude\n",
    "          start_station_longitude: Start Station Longitude\n",
    "          end_station_id: End Station ID\n",
    "          end_station_name: End Station Name\n",
    "          end_station_latitude: End Station Latitude\n",
    "          end_station_longitude: End Station Longitude\n",
    "          bikeid: the Bike's unique ID number\n",
    "          usertype: User Type (Customer = 24-hour pass or 7-day pass user, Subscriber = Annual Member)\n",
    "          birth_year: user's year of birth\n",
    "          gender: user's gender (unknown, male, female)\n",
    "          customer_plan: The name of the plan that determines the rate charged for the trip\n",
    "\n",
    "            \"\"\"\n",
    "\n",
    "language = \"BigQuery\"\n",
    "\n",
    "problem = \"\"\"generate the following query: \\n\n",
    "            - return all columns for 1000 records where tripduration is not null. \\n\n",
    "          \"\"\"\n",
    "\n",
    "PROMPT = f\"\"\"Write a {language} query to {problem}.\n",
    "          use this as the table metadata: {metadata}.\n",
    "          \"\"\"\n",
    "\n",
    "print(PROMPT)"
   ]
  },
  {
   "cell_type": "markdown",
   "id": "2daba0f8-aa0e-4219-b16a-9f2f74a43364",
   "metadata": {},
   "source": [
    "**Note:** replace `your_project.your_dataset.your_table` with `bigquery-public-data.new_york_citibike.citibike_trips`"
   ]
  },
  {
   "cell_type": "code",
   "execution_count": 11,
   "id": "aeaf2388-6d69-4b2b-a261-d5ee6df6ab9b",
   "metadata": {
    "tags": []
   },
   "outputs": [
    {
     "name": "stdout",
     "output_type": "stream",
     "text": [
      "```sql\n",
      "SELECT\n",
      "    *\n",
      "  FROM\n",
      "    `your_project.your_dataset.your_table`  -- Replace with your actual table information\n",
      "  WHERE tripduration IS NOT NULL\n",
      "LIMIT 1000\n",
      "```\n",
      "\n",
      "**Explanation:**\n",
      "\n",
      "* **`SELECT *`**:  This selects all columns from the table.\n",
      "* **`FROM your_project.your_dataset.your_table`**:  This specifies the table you want to query.  **Crucially, you MUST replace `your_project`, `your_dataset`, and `your_table` with the actual project ID, dataset name, and table name where your bike trip data is stored.**  You can find this information in the BigQuery console.\n",
      "* **`WHERE tripduration IS NOT NULL`**: This filters the results to include only rows where the `tripduration` column has a value (i.e., it's not null).\n",
      "* **`LIMIT 1000`**: This limits the result set to the first 1000 rows that satisfy the `WHERE` clause.  This is important for performance and cost control, especially when working with large datasets.\n",
      "\n",
      "**How to use this query:**\n",
      "\n",
      "1. **Open the BigQuery console:** Go to the Google Cloud Console and navigate to BigQuery.\n",
      "2. **Create a new query:** Click the \"Compose new query\" button.\n",
      "3. **Paste the query:** Copy and paste the query above into the query editor.\n",
      "4. **Replace placeholders:**  **Make sure to replace `your_project.your_dataset.your_table` with the correct table identifier.**\n",
      "5. **Run the query:** Click the \"Run\" button.\n",
      "\n",
      "BigQuery will execute the query and display the results in the console.\n",
      "\n"
     ]
    }
   ],
   "source": [
    "response = client.models.generate_content(\n",
    "    model=MODEL_ID,\n",
    "    contents=PROMPT,\n",
    "    config=GenerateContentConfig(\n",
    "        # tools=[code_execution_tool],\n",
    "        temperature=0,\n",
    "    ),\n",
    ")\n",
    "\n",
    "print(response.text)"
   ]
  },
  {
   "cell_type": "code",
   "execution_count": 16,
   "id": "721b53f6-b462-4a3f-baf4-8e4d40b55326",
   "metadata": {
    "tags": []
   },
   "outputs": [],
   "source": [
    "problem = \"\"\"generate the following query: \\n\n",
    "            - Show me the duration and subscriber type for the ten longest trips. \\n\n",
    "          \"\"\"\n",
    "\n",
    "PROMPT = f\"\"\"Write a {language} query to {problem}.\n",
    "          use this as the table metadata: {metadata}.\n",
    "          \"\"\"\n",
    "\n",
    "# print(PROMPT)"
   ]
  },
  {
   "cell_type": "code",
   "execution_count": 13,
   "id": "e8edfd45-0232-47a8-a607-cae075fc8828",
   "metadata": {
    "tags": []
   },
   "outputs": [
    {
     "name": "stdout",
     "output_type": "stream",
     "text": [
      "```sql\n",
      "SELECT\n",
      "    tripduration,\n",
      "    usertype\n",
      "  FROM\n",
      "    `bigquery-public-data.new_york_citibike.citibike_trips`\n",
      "ORDER BY\n",
      "  tripduration DESC\n",
      "LIMIT 10\n",
      "```\n",
      "\n",
      "**Explanation:**\n",
      "\n",
      "*   **`SELECT tripduration, usertype`**: This specifies the columns you want to retrieve: the trip duration and the user type.\n",
      "*   **`FROM \\`bigquery-public-data.new_york_citibike.citibike_trips\\``**:  This indicates the table you're querying from the BigQuery public dataset.  The backticks are important because the table name contains periods.\n",
      "*   **`ORDER BY tripduration DESC`**: This sorts the results in descending order based on the `tripduration` column, so the longest trips appear first.\n",
      "*   **`LIMIT 10`**: This limits the output to the top 10 rows, giving you the ten longest trips.\n",
      "\n",
      "This query directly addresses the prompt's request to show the duration and subscriber type (which is represented by the `usertype` column) for the ten longest trips.\n",
      "\n"
     ]
    }
   ],
   "source": [
    "response = client.models.generate_content(\n",
    "    model=MODEL_ID,\n",
    "    contents=PROMPT,\n",
    "    config=GenerateContentConfig(\n",
    "        # tools=[code_execution_tool],\n",
    "        temperature=0,\n",
    "    ),\n",
    ")\n",
    "\n",
    "print(response.text)"
   ]
  },
  {
   "cell_type": "markdown",
   "id": "d5cc093c-cf4c-41f6-a42c-c2ade01444b7",
   "metadata": {},
   "source": [
    "### generate multiple queries with single prompt"
   ]
  },
  {
   "cell_type": "code",
   "execution_count": 17,
   "id": "c879c260-c4c0-4931-9c75-46c5990a482a",
   "metadata": {
    "tags": []
   },
   "outputs": [
    {
     "name": "stdout",
     "output_type": "stream",
     "text": [
      "Write a BigQuery query to solve following queries: \n",
      "\n",
      "            - Total number of trips taken. \n",
      "\n",
      "            - Total number of seconds taken furing trips. \n",
      "\n",
      "            - Average trip duration in seconds. \n",
      "\n",
      "            - Most popular station trips start from. \n",
      "\n",
      "            - Most recent trip completed. \n",
      "\n",
      "          .\n",
      "          use this as the table metadata: \n",
      "          A table of bike trips, with the following columns:\n",
      "\n",
      "          tripduration: Trip Duration (in seconds).\n",
      "          starttime: Start Time, in NYC local time.\n",
      "          stoptime: Stop Time, in NYC local time \n",
      "          start_station_id: Start Station ID\n",
      "          start_station_name: Start Station Name\n",
      "          start_station_latitude: Start Station Latitude\n",
      "          start_station_longitude: Start Station Longitude\n",
      "          end_station_id: End Station ID\n",
      "          end_station_name: End Station Name\n",
      "          end_station_latitude: End Station Latitude\n",
      "          end_station_longitude: End Station Longitude\n",
      "          bikeid: the Bike's unique ID number\n",
      "          usertype: User Type (Customer = 24-hour pass or 7-day pass user, Subscriber = Annual Member)\n",
      "          birth_year: user's year of birth\n",
      "          gender: user's gender (unknown, male, female)\n",
      "          customer_plan: The name of the plan that determines the rate charged for the trip\n",
      "\n",
      "            .\n",
      "          Generate each query as a separate query separated with a comment.\n",
      "              \n"
     ]
    }
   ],
   "source": [
    "language = \"BigQuery\"\n",
    "\n",
    "problem = \"\"\"solve following queries: \\n\n",
    "            - Total number of trips taken. \\n\n",
    "            - Total number of seconds taken furing trips. \\n\n",
    "            - Average trip duration in seconds. \\n\n",
    "            - Most popular station trips start from. \\n\n",
    "            - Most recent trip completed. \\n\n",
    "          \"\"\"\n",
    "\n",
    "PROMPT = f\"\"\"Write a {language} query to {problem}.\n",
    "          use this as the table metadata: {metadata}.\n",
    "          Generate each query as a separate query separated with a comment.\n",
    "              \"\"\"\n",
    "\n",
    "print(PROMPT)"
   ]
  },
  {
   "cell_type": "code",
   "execution_count": 15,
   "id": "55be9451-efc9-4f07-936c-48e065690834",
   "metadata": {
    "tags": []
   },
   "outputs": [
    {
     "name": "stdout",
     "output_type": "stream",
     "text": [
      "```sql\n",
      "-- Total number of trips taken.\n",
      "SELECT COUNT(*) AS total_trips\n",
      "FROM `your_project.your_dataset.your_table`;\n",
      "\n",
      "-- Total number of seconds taken during trips.\n",
      "SELECT SUM(tripduration) AS total_seconds\n",
      "FROM `your_project.your_dataset.your_table`;\n",
      "\n",
      "-- Average trip duration in seconds.\n",
      "SELECT AVG(tripduration) AS average_duration_seconds\n",
      "FROM `your_project.your_dataset.your_table`;\n",
      "\n",
      "-- Most popular station trips start from.\n",
      "SELECT start_station_name, COUNT(*) AS trip_count\n",
      "FROM `your_project.your_dataset.your_table`\n",
      "GROUP BY start_station_name\n",
      "ORDER BY trip_count DESC\n",
      "LIMIT 1;\n",
      "\n",
      "-- Most recent trip completed.\n",
      "SELECT MAX(stoptime) AS most_recent_trip_end_time\n",
      "FROM `your_project.your_dataset.your_table`;\n",
      "```\n",
      "\n",
      "**Explanation:**\n",
      "\n",
      "*   **`your_project.your_dataset.your_table`**:  Replace this placeholder with the actual project ID, dataset name, and table name where your bike trip data is stored in BigQuery.\n",
      "\n",
      "*   **Total number of trips:** `COUNT(*)` counts all rows in the table, representing each trip.\n",
      "\n",
      "*   **Total number of seconds:** `SUM(tripduration)` adds up the values in the `tripduration` column.\n",
      "\n",
      "*   **Average trip duration:** `AVG(tripduration)` calculates the average of the `tripduration` column.\n",
      "\n",
      "*   **Most popular start station:**\n",
      "    *   `GROUP BY start_station_name` groups the rows by the starting station name.\n",
      "    *   `COUNT(*)` counts the number of trips for each station.\n",
      "    *   `ORDER BY trip_count DESC` sorts the results in descending order based on the trip count.\n",
      "    *   `LIMIT 1` returns only the station with the highest trip count.\n",
      "\n",
      "*   **Most recent trip completed:** `MAX(stoptime)` finds the latest (maximum) value in the `stoptime` column, which represents the completion time of the most recent trip.\n",
      "\n"
     ]
    }
   ],
   "source": [
    "response = client.models.generate_content(\n",
    "    model=MODEL_ID,\n",
    "    contents=PROMPT,\n",
    "    config=GenerateContentConfig(\n",
    "        # tools=[code_execution_tool],\n",
    "        temperature=0,\n",
    "    ),\n",
    ")\n",
    "\n",
    "print(response.text)"
   ]
  },
  {
   "cell_type": "markdown",
   "id": "f92e3ea5-3ea4-4d13-b0c7-93fbbd42c300",
   "metadata": {},
   "source": [
    "### add addiitonal requirements"
   ]
  },
  {
   "cell_type": "code",
   "execution_count": 18,
   "id": "b9d580f5-4980-424a-99d8-3239aacdb93d",
   "metadata": {
    "tags": []
   },
   "outputs": [
    {
     "name": "stdout",
     "output_type": "stream",
     "text": [
      "Write a BigQuery query to solve following queries: \n",
      "\n",
      "            - Total number of trips taken. \n",
      "\n",
      "            - Total number of seconds taken furing trips. \n",
      "\n",
      "            - Average trip duration in seconds. \n",
      "\n",
      "            - Most popular station trips start from. \n",
      "\n",
      "            - Most recent trip completed. \n",
      "\n",
      "          .\n",
      "          use this as the table metadata: \n",
      "          A table of bike trips, with the following columns:\n",
      "\n",
      "          tripduration: Trip Duration (in seconds).\n",
      "          starttime: Start Time, in NYC local time.\n",
      "          stoptime: Stop Time, in NYC local time \n",
      "          start_station_id: Start Station ID\n",
      "          start_station_name: Start Station Name\n",
      "          start_station_latitude: Start Station Latitude\n",
      "          start_station_longitude: Start Station Longitude\n",
      "          end_station_id: End Station ID\n",
      "          end_station_name: End Station Name\n",
      "          end_station_latitude: End Station Latitude\n",
      "          end_station_longitude: End Station Longitude\n",
      "          bikeid: the Bike's unique ID number\n",
      "          usertype: User Type (Customer = 24-hour pass or 7-day pass user, Subscriber = Annual Member)\n",
      "          birth_year: user's year of birth\n",
      "          gender: user's gender (unknown, male, female)\n",
      "          customer_plan: The name of the plan that determines the rate charged for the trip\n",
      "\n",
      "            .\n",
      "          Here are some additional requirement for the query: \n",
      "            - The query should be efficient and scalable, as the customer table may contain millions of rows. \n",
      "\n",
      "            - The query should be easy to read and maintain.\n",
      "            .\n",
      "          Generate each query as a separate query separated with a comment.\n",
      "              \n"
     ]
    }
   ],
   "source": [
    "additional_requirement = \"\"\"\n",
    "            - The query should be efficient and scalable, as the customer table may contain millions of rows. \\n\n",
    "            - The query should be easy to read and maintain.\n",
    "            \"\"\"\n",
    "\n",
    "PROMPT = f\"\"\"Write a {language} query to {problem}.\n",
    "          use this as the table metadata: {metadata}.\n",
    "          Here are some additional requirement for the query: {additional_requirement}.\n",
    "          Generate each query as a separate query separated with a comment.\n",
    "              \"\"\"\n",
    "\n",
    "print(PROMPT)"
   ]
  },
  {
   "cell_type": "code",
   "execution_count": 19,
   "id": "35cf706a-e876-4ae4-a812-e198b1393418",
   "metadata": {
    "tags": []
   },
   "outputs": [
    {
     "name": "stdout",
     "output_type": "stream",
     "text": [
      "```sql\n",
      "-- Total number of trips taken.\n",
      "SELECT COUNT(*) AS total_trips\n",
      "FROM `your_project.your_dataset.your_table`;\n",
      "\n",
      "-- Total number of seconds taken during trips.\n",
      "SELECT SUM(tripduration) AS total_seconds\n",
      "FROM `your_project.your_dataset.your_table`;\n",
      "\n",
      "-- Average trip duration in seconds.\n",
      "SELECT AVG(tripduration) AS average_trip_duration\n",
      "FROM `your_project.your_dataset.your_table`;\n",
      "\n",
      "-- Most popular station trips start from.\n",
      "SELECT start_station_name, COUNT(*) AS trip_count\n",
      "FROM `your_project.your_dataset.your_table`\n",
      "GROUP BY start_station_name\n",
      "ORDER BY trip_count DESC\n",
      "LIMIT 1;\n",
      "\n",
      "-- Most recent trip completed.\n",
      "SELECT MAX(stoptime) AS most_recent_trip_completion_time\n",
      "FROM `your_project.your_dataset.your_table`;\n",
      "```\n",
      "\n",
      "**Explanation and Justification:**\n",
      "\n",
      "*   **Efficiency and Scalability:**  All queries use aggregate functions (COUNT, SUM, AVG, MAX) which are highly optimized in BigQuery.  The `GROUP BY` and `ORDER BY` operations in the \"Most popular station\" query are also handled efficiently by BigQuery's distributed processing.  There are no subqueries or complex joins that would negatively impact performance.  Using `LIMIT 1` on the \"Most popular station\" query ensures that only the top result is returned, further improving efficiency.\n",
      "\n",
      "*   **Readability and Maintainability:** The queries are straightforward and use clear, descriptive aliases (e.g., `total_trips`, `average_trip_duration`).  Each query is separated by a comment, making it easy to understand the purpose of each section.  The table name is parameterized (`your_project.your_dataset.your_table`) to make it easy to adapt the query to different datasets.\n",
      "\n",
      "*   **Correctness:** The queries directly address the requirements of the problem statement.  They use the appropriate columns and functions to calculate the desired results.\n",
      "\n",
      "*   **Data Types:** The queries assume that `tripduration` is a numeric type (INT64, FLOAT64, etc.) and that `starttime` and `stoptime` are TIMESTAMP or DATETIME types.  If the data types are different, you may need to cast them appropriately (e.g., `CAST(tripduration AS INT64)`).\n",
      "\n",
      "**How to Use:**\n",
      "\n",
      "1.  **Replace Placeholders:**  Replace `your_project.your_dataset.your_table` with the actual project ID, dataset name, and table name of your BigQuery table.\n",
      "2.  **Execute in BigQuery:**  Copy and paste each query into the BigQuery query editor and run them individually.  You can also run them all at once, but the results will be displayed separately.\n",
      "\n"
     ]
    }
   ],
   "source": [
    "response = client.models.generate_content(\n",
    "    model=MODEL_ID,\n",
    "    contents=PROMPT,\n",
    "    config=GenerateContentConfig(\n",
    "        # tools=[code_execution_tool],\n",
    "        temperature=0,\n",
    "    ),\n",
    ")\n",
    "\n",
    "print(response.text)"
   ]
  },
  {
   "cell_type": "markdown",
   "id": "1800cf2e-5aa9-4fd2-9535-4f6dabd561cd",
   "metadata": {},
   "source": [
    "## SQL Metadata & Performance\n",
    "\n",
    "> example prompting strategy using fictious SQL table"
   ]
  },
  {
   "cell_type": "code",
   "execution_count": 20,
   "id": "f1779245-4c54-493d-a7d3-bdb55c260b09",
   "metadata": {
    "tags": []
   },
   "outputs": [
    {
     "name": "stdout",
     "output_type": "stream",
     "text": [
      " Solve the following: \n",
      "                    You are a developer working on an e-commerce platform.\n",
      "                    The marketing team has requested a report on the total number of orders and the average order                     value for each product category for the past month.\n",
      "                    Your task is to generate a SQL queries to retrieve the total number of orders and the average order                     value for each product category for the orders placed in the:\n",
      "                    1) past month,\n",
      "                    2) given data range,\n",
      "                    3) end of each month for given year,\n",
      "                    4) christmas and new year's eve.\n",
      "                    . The given table metadata is : \n",
      "                 - **Orders:**\n",
      "                    - `OrderID` (integer)\n",
      "                    - `ProductID` (integer)\n",
      "                    - `ProductName` (string)\n",
      "                    - `Category` (string)\n",
      "                    - `OrderDate` (date)\n",
      "                    - `OrderAmount` (decimal)\n",
      "                 .\n",
      "          Follow the following code style: \n",
      "            Write a SQL query that follows best practices, is readable, and well-commented.\n",
      "              . The following performance requirement is: \n",
      "                          Optimize the query for performance considering the potential size of the \"Orders\" table.\n",
      "                          Consider using appropriate indexing if necessary.\n",
      "                           .\n",
      "          \n"
     ]
    }
   ],
   "source": [
    "problem_statement = \"\"\"\n",
    "                    You are a developer working on an e-commerce platform.\n",
    "                    The marketing team has requested a report on the total number of orders and the average order \\\n",
    "                    value for each product category for the past month.\n",
    "                    Your task is to generate a SQL queries to retrieve the total number of orders and the average order \\\n",
    "                    value for each product category for the orders placed in the:\n",
    "                    1) past month,\n",
    "                    2) given data range,\n",
    "                    3) end of each month for given year,\n",
    "                    4) christmas and new year's eve.\n",
    "                    \"\"\"\n",
    "\n",
    "table_metadata = \"\"\"\n",
    "                 - **Orders:**\n",
    "                    - `OrderID` (integer)\n",
    "                    - `ProductID` (integer)\n",
    "                    - `ProductName` (string)\n",
    "                    - `Category` (string)\n",
    "                    - `OrderDate` (date)\n",
    "                    - `OrderAmount` (decimal)\n",
    "                \"\"\"\n",
    "\n",
    "language = \"SQL\"\n",
    "\n",
    "code_style = f\"\"\"\n",
    "            Write a {language} query that follows best practices, is readable, and well-commented.\n",
    "             \"\"\"\n",
    "\n",
    "performance_requirement = \"\"\"\n",
    "                          Optimize the query for performance considering the potential size of the \"Orders\" table.\n",
    "                          Consider using appropriate indexing if necessary.\n",
    "                          \"\"\"\n",
    "\n",
    "PROMPT = f\"\"\" Solve the following: {problem_statement}. The given table metadata is : {table_metadata} .\n",
    "          Follow the following code style: {code_style} . The following performance requirement is: {performance_requirement} .\n",
    "          \"\"\"\n",
    "\n",
    "print(PROMPT)"
   ]
  },
  {
   "cell_type": "code",
   "execution_count": 7,
   "id": "10679e26-590b-4200-b49c-ef57e3b2c2d4",
   "metadata": {
    "tags": []
   },
   "outputs": [
    {
     "name": "stdout",
     "output_type": "stream",
     "text": [
      "```sql\n",
      " -- 1. Total orders and average order value for each product category for the past month.\n",
      " \n",
      "\n",
      " SELECT\n",
      "  Category,\n",
      "  COUNT(DISTINCT OrderID) AS TotalOrders,\n",
      "  AVG(OrderAmount) AS AverageOrderValue\n",
      " FROM\n",
      "  Orders\n",
      " WHERE\n",
      "  OrderDate >= DATE_SUB(CURDATE(), INTERVAL 1 MONTH)\n",
      " GROUP BY\n",
      "  Category\n",
      " ORDER BY\n",
      "  Category;\n",
      " \n",
      "\n",
      " -- Optimization notes:\n",
      " --  - Ensure that there is an index on the `OrderDate` column to speed up the filtering process.\n",
      " --  - An index on the `Category` column would also improve the performance of the GROUP BY clause.\n",
      " \n",
      "\n",
      " -- 2. Total orders and average order value for each product category for a given date range.\n",
      " \n",
      "\n",
      " SELECT\n",
      "  Category,\n",
      "  COUNT(DISTINCT OrderID) AS TotalOrders,\n",
      "  AVG(OrderAmount) AS AverageOrderValue\n",
      " FROM\n",
      "  Orders\n",
      " WHERE\n",
      "  OrderDate BETWEEN '2023-01-01' AND '2023-01-31' --  Replace with your desired start and end dates\n",
      " GROUP BY\n",
      "  Category\n",
      " ORDER BY\n",
      "  Category;\n",
      " \n",
      "\n",
      " -- Optimization notes:\n",
      " --  - Similar to the previous query, ensure that there is an index on the `OrderDate` column.\n",
      " --  - Consider using parameterized queries to prevent SQL injection and improve performance if the date range is dynamic.\n",
      " \n",
      "\n",
      " -- 3. Total orders and average order value for each product category at the end of each month for a given year.\n",
      " \n",
      "\n",
      " SELECT\n",
      "  Category,\n",
      "  COUNT(DISTINCT OrderID) AS TotalOrders,\n",
      "  AVG(OrderAmount) AS AverageOrderValue,\n",
      "  MONTH(OrderDate) AS OrderMonth\n",
      " FROM\n",
      "  Orders\n",
      " WHERE\n",
      "  YEAR (OrderDate) = 2023\n",
      "  AND OrderDate = LAST_DAY(OrderDate)\n",
      " GROUP BY\n",
      "  Category,\n",
      "  OrderMonth\n",
      " ORDER BY\n",
      "  OrderMonth,\n",
      "  Category;\n",
      " \n",
      "\n",
      " -- Optimization notes:\n",
      " --  - Index on `OrderDate` is crucial.\n",
      " --  - The `YEAR(OrderDate)` function might not be the most efficient. If possible, pre-calculate the date range for the entire year and use `BETWEEN` for better index utilization.\n",
      " \n",
      "\n",
      " -- 4. Total orders and average order value for each product category for Christmas and New Year's Eve.\n",
      " \n",
      "\n",
      " SELECT\n",
      "  Category,\n",
      "  COUNT(DISTINCT OrderID) AS TotalOrders,\n",
      "  AVG(OrderAmount) AS AverageOrderValue\n",
      " FROM\n",
      "  Orders\n",
      " WHERE\n",
      "  (\n",
      "  MONTH (OrderDate) = 12\n",
      "  AND DAY (OrderDate) = 24\n",
      "  )\n",
      "  OR (\n",
      "  MONTH (OrderDate) = 12\n",
      "  AND DAY (OrderDate) = 31\n",
      "  )\n",
      "  OR (\n",
      "  MONTH (OrderDate) = 1\n",
      "  AND DAY (OrderDate) = 1\n",
      "  )\n",
      " GROUP BY\n",
      "  Category\n",
      " ORDER BY\n",
      "  Category;\n",
      " \n",
      "\n",
      " -- Optimization notes:\n",
      " --  - Index on `OrderDate` is important.\n",
      " --  - Using `OR` conditions can sometimes hinder performance.  If performance is critical, consider splitting this into two separate queries and combining the results in the application layer.  Alternatively, create a temporary table or CTE with the specific dates and join against it.\n",
      " \n",
      "\n",
      " -- Example of using a CTE for Christmas and New Year's Eve (alternative to the OR condition):\n",
      " \n",
      "\n",
      " WITH\n",
      "  HolidayDates AS (\n",
      "  SELECT\n",
      "  '12-24' AS Holiday\n",
      "  UNION ALL\n",
      "  SELECT\n",
      "  '12-31'\n",
      "  UNION ALL\n",
      "  SELECT\n",
      "  '01-01'\n",
      "  )\n",
      " SELECT\n",
      "  o.Category,\n",
      "  COUNT(DISTINCT o.OrderID) AS TotalOrders,\n",
      "  AVG(o.OrderAmount) AS AverageOrderValue\n",
      " FROM\n",
      "  Orders o\n",
      "  JOIN HolidayDates h ON DATE_FORMAT(o.OrderDate, '%m-%d') = h.Holiday\n",
      " GROUP BY\n",
      "  o.Category\n",
      " ORDER BY\n",
      "  o.Category;\n",
      " \n",
      "\n",
      " -- General Optimization Considerations:\n",
      " --  - **Indexing:**  Ensure appropriate indexes are in place on `OrderDate`, `Category`, and any other columns used in `WHERE` or `GROUP BY` clauses.  The specific indexes needed will depend on the most common query patterns.\n",
      " --  - **Data Types:**  Verify that the data types of the columns are appropriate.  For example, if `OrderDate` is stored as a string, converting it to a date data type will improve performance.\n",
      " --  - **Partitioning:** If the `Orders` table is very large, consider partitioning it by date (e.g., monthly or yearly) to improve query performance.\n",
      " --  - **Query Execution Plan:**  Use the database's query execution plan tool to analyze the query and identify potential bottlenecks.  This will help you fine-tune the query and indexes for optimal performance.\n",
      " --  - **Statistics:**  Ensure that the database statistics are up-to-date.  This helps the query optimizer make better decisions about how to execute the query.\n",
      " --  - **Caching:**  Implement caching mechanisms to store the results of frequently executed queries.\n",
      " --  - **Avoid Functions in WHERE Clause:**  Avoid using functions like `YEAR()`, `MONTH()`, and `DAY()` directly in the `WHERE` clause if possible, as they can prevent the use of indexes.  Instead, try to rewrite the query to use date ranges.  The CTE example above demonstrates one way to avoid this.\n",
      " ```\n"
     ]
    }
   ],
   "source": [
    "response = client.models.generate_content(\n",
    "    model=MODEL_ID,\n",
    "    contents=PROMPT,\n",
    "    config=GenerateContentConfig(\n",
    "        # tools=[code_execution_tool],\n",
    "        temperature=0,\n",
    "    ),\n",
    ")\n",
    "\n",
    "print(response.text)"
   ]
  }
 ],
 "metadata": {
  "environment": {
   "kernel": "conda-env-py310_code-py310_code",
   "name": "workbench-notebooks.m128",
   "type": "gcloud",
   "uri": "us-docker.pkg.dev/deeplearning-platform-release/gcr.io/workbench-notebooks:m128"
  },
  "kernelspec": {
   "display_name": "py310_code (Local) (Local)",
   "language": "python",
   "name": "conda-env-py310_code-py310_code"
  },
  "language_info": {
   "codemirror_mode": {
    "name": "ipython",
    "version": 3
   },
   "file_extension": ".py",
   "mimetype": "text/x-python",
   "name": "python",
   "nbconvert_exporter": "python",
   "pygments_lexer": "ipython3",
   "version": "3.10.16"
  }
 },
 "nbformat": 4,
 "nbformat_minor": 5
}
